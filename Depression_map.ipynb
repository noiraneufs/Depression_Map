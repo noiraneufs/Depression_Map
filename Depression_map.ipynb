{
  "nbformat": 4,
  "nbformat_minor": 0,
  "metadata": {
    "colab": {
      "provenance": []
    },
    "kernelspec": {
      "name": "python3",
      "display_name": "Python 3"
    },
    "language_info": {
      "name": "python"
    }
  },
  "cells": [
    {
      "cell_type": "markdown",
      "source": [
        "**Pré-processamento dataset**\n",
        "\n"
      ],
      "metadata": {
        "id": "9ZXX0ARPJq95"
      }
    },
    {
      "cell_type": "code",
      "source": [
        "import pandas as pd\n",
        "\n",
        "# colunas de interesse\n",
        "selected_columns = ['Q3A', 'Q5A', 'Q10A', 'Q13A', 'Q16A', 'Q17A', 'Q21A', 'Q24A', 'Q26A', 'Q31A', 'Q34A', 'Q37A', 'Q38A', 'Q42A',\n",
        "                    'gender', 'country', 'education', 'age', 'married']\n",
        "\n",
        "file_path = 'originalDataset.csv'\n",
        "\n",
        "\n",
        "df = pd.read_csv(file_path, delimiter='\\t')\n",
        "\n",
        "\n",
        "initial_row_count = len(df)\n",
        "print(f\"Número inicial de linhas no originalDataset: {initial_row_count}\")\n",
        "\n",
        "\n",
        "df.replace('NONE', pd.NA, inplace=True)\n",
        "\n",
        "# eliminar linhas com nan\n",
        "df.dropna(inplace=True)\n",
        "\n",
        "#criterios\n",
        "criteria = {\n",
        "    'education': (1, 4),\n",
        "    'gender': (1, 3),\n",
        "    'married': (1, 3),\n",
        "    'age': (18, 100)\n",
        "}\n",
        "\n",
        "for column, (low, high) in criteria.items():\n",
        "    df = df[df[column].between(low, high)]\n",
        "\n",
        "# contando participantes\n",
        "country_counts = df['country'].value_counts()\n",
        "\n",
        "# filtrar países com 30 ou mais participantes\n",
        "countries_with_min_participants = country_counts[country_counts >= 30].index\n",
        "\n",
        "\n",
        "df_filtered = df[df['country'].isin(countries_with_min_participants)]\n",
        "\n",
        "\n",
        "filtered_row_count = len(df_filtered)\n",
        "print(f\"Número de linhas após todos os filtros: {filtered_row_count}\")\n",
        "\n",
        "# Selecionar apenas as colunas desejadas\n",
        "df_filtered = df_filtered[selected_columns]\n",
        "\n",
        "# -1 questões da depressoa\n",
        "item_columns = ['Q3A', 'Q5A', 'Q10A', 'Q13A', 'Q16A', 'Q17A', 'Q21A', 'Q24A', 'Q26A', 'Q31A', 'Q34A', 'Q37A', 'Q38A', 'Q42A']\n",
        "df_filtered[item_columns] = df_filtered[item_columns] - 1\n",
        "\n",
        "\n",
        "df_filtered['soma_depressao'] = df_filtered[item_columns].sum(axis=1)\n",
        "\n",
        "#  mapear o índice de depressão\n",
        "def mapear_indice_depressao(pontuacao):\n",
        "    if pontuacao <= 9:\n",
        "        return 0\n",
        "    elif pontuacao <= 13:\n",
        "        return 1\n",
        "    elif pontuacao <= 20:\n",
        "        return 2\n",
        "    elif pontuacao <= 27:\n",
        "        return 3\n",
        "    else:\n",
        "        return 4\n",
        "\n",
        "# resultado índice\n",
        "df_filtered['indice_depressao'] = df_filtered['soma_depressao'].apply(mapear_indice_depressao)\n",
        "\n",
        "\n",
        "country_legend = {number: country for number, country in enumerate(df_filtered['country'].unique(), 1)}\n",
        "print(\"Legenda para a coluna 'country':\")\n",
        "for number, country in country_legend.items():\n",
        "    print(f\"{number}: {country}\")\n",
        "\n",
        "# Remover a coluna 'soma_depressao'\n",
        "df_filtered.drop(columns=['soma_depressao'], inplace=True)\n",
        "\n",
        "# Salvar o dataset filtrado\n",
        "df_filtered.to_csv('dataset.csv', index=False)\n",
        "\n",
        "# Número final de linhas\n",
        "final_row_count = len(df_filtered)\n",
        "print(f\"Número de linhas finais no dataset filtrado: {final_row_count}\")\n"
      ],
      "metadata": {
        "colab": {
          "base_uri": "https://localhost:8080/"
        },
        "id": "fZDRSj9vFm3Q",
        "outputId": "d90faf3c-d6b5-49b5-810a-23cc6df6afe2"
      },
      "execution_count": 4,
      "outputs": [
        {
          "output_type": "stream",
          "name": "stdout",
          "text": [
            "Número inicial de linhas no originalDataset: 39775\n",
            "Número de linhas após todos os filtros: 24927\n",
            "Legenda para a coluna 'country':\n",
            "1: MY\n",
            "2: GB\n",
            "3: DE\n",
            "4: US\n",
            "5: AU\n",
            "6: CA\n",
            "7: FI\n",
            "8: ES\n",
            "9: ID\n",
            "10: GR\n",
            "11: IN\n",
            "12: BR\n",
            "13: PT\n",
            "14: RS\n",
            "15: IT\n",
            "16: FR\n",
            "17: RO\n",
            "18: PL\n",
            "19: PH\n",
            "20: IE\n",
            "21: NZ\n",
            "22: ZA\n",
            "23: NL\n",
            "24: JM\n",
            "25: MX\n",
            "26: PK\n",
            "27: HK\n",
            "28: SG\n",
            "29: RU\n",
            "30: TR\n",
            "31: EG\n",
            "32: SA\n",
            "33: BN\n",
            "34: JP\n",
            "Número de linhas finais no dataset filtrado: 24927\n"
          ]
        }
      ]
    },
    {
      "cell_type": "markdown",
      "source": [
        "**Dados sociodemográficos**"
      ],
      "metadata": {
        "id": "zUWi2LKkJjBe"
      }
    },
    {
      "cell_type": "code",
      "source": [
        "import pandas as pd\n",
        "\n",
        "data = pd.read_csv('dataset.csv')\n",
        "\n",
        "# mapear iso\n",
        "country_name_dict = {\n",
        "    'AU': 'Australia', 'BN': 'Brunei', 'BR': 'Brazil', 'CA': 'Canada', 'DE': 'Germany', 'EG': 'Egypt',\n",
        "    'ES': 'Spain', 'FI': 'Finland', 'FR': 'France', 'GB': 'United Kingdom', 'GR': 'Greece', 'HK': 'Hong Kong',\n",
        "    'ID': 'Indonesia', 'IE': 'Ireland', 'IN': 'India', 'IT': 'Italy', 'JM': 'Jamaica', 'JP': 'Japan',\n",
        "    'MX': 'Mexico', 'MY': 'Malaysia', 'NL': 'Netherlands', 'NZ': 'New Zealand', 'PH': 'Philippines',\n",
        "    'PK': 'Pakistan', 'PL': 'Poland', 'PT': 'Portugal', 'RO': 'Romania', 'RS': 'Serbia', 'RU': 'Russia',\n",
        "    'SA': 'Saudi Arabia', 'SG': 'Singapore', 'TR': 'Turkey', 'US': 'United States', 'ZA': 'South Africa'\n",
        "}\n",
        "\n",
        "# mapear os países para seus respectivos continentes\n",
        "continent_dict = {\n",
        "    'AU': 'Australia/New Zealand', 'BN': 'Asia', 'BR': 'South America', 'CA': 'North America', 'DE': 'Europe',\n",
        "'EG': 'Africa', 'ES': 'Europe', 'FI': 'Europe', 'FR': 'Europe', 'GB': 'Europe', 'GR': 'Europe',\n",
        "    'HK': 'Asia', 'ID': 'Asia', 'IE': 'Europe', 'IN': 'Asia', 'IT': 'Europe', 'JM': 'North America',\n",
        "        'JP': 'Asia', 'MX': 'North America', 'MY': 'Asia', 'NL': 'Europe', 'NZ': 'Australia/New Zealand',\n",
        "    'PH': 'Asia', 'PK': 'Asia', 'PL': 'Europe', 'PT': 'Europe', 'RO': 'Europe', 'RS': 'Europe',\n",
        "    'RU': 'Europe', 'SA': 'Asia', 'SG': 'Asia', 'TR': 'Asia', 'US': 'North America', 'ZA': 'Africa'\n",
        "}\n",
        "\n",
        "# testa se as colunas country e indice_depressao estão no dataset\n",
        "if 'country' in data.columns and 'indice_depressao' in data.columns:\n",
        "\n",
        "    data['continent'] = data['country'].map(continent_dict)\n",
        "\n",
        "\n",
        "    print(\"Exemplo de mapeamento de países para continentes:\")\n",
        "    print(data[['country', 'continent']].head())\n",
        "\n",
        "    # contagem /continente\n",
        "    continent_counts = data['continent'].value_counts()\n",
        "\n",
        "    for continent in continent_counts.index:\n",
        "        print(f\"\\nContinente: {continent}, Total de participantes: {continent_counts[continent]}\")\n",
        "        countries_in_continent = data[data['continent'] == continent]['country'].value_counts()\n",
        "\n",
        "        continent_avg_depression = 0\n",
        "        country_count = 0\n",
        "\n",
        "        for country_code, count in countries_in_continent.items():\n",
        "            avg_depression = data[data['country'] == country_code]['indice_depressao'].mean()\n",
        "            country_name = country_name_dict[country_code]  # Obter o nome do país\n",
        "            print(f\"  País: {country_name}, Participantes: {count}, Média do Índice de Depressão: {avg_depression:.2f}\")\n",
        "\n",
        "            # somar para calcular a média do continente\n",
        "            continent_avg_depression += avg_depression\n",
        "            country_count += 1\n",
        "\n",
        "        continent_avg_depression /= country_count\n",
        "        print(f\"Média do Índice de Depressão no Continente ({continent}): {continent_avg_depression:.2f}\")\n",
        "\n",
        "    # exibir a soma total de todos os participantes\n",
        "    total_participants = continent_counts.sum()\n",
        "    print(f\"\\nTotal de participantes em todos os continentes: {total_participants}\")\n",
        "\n",
        "else:\n",
        "    print(\"As colunas 'country' ou 'indice_depressao' não foram encontradas no dataset.\")\n"
      ],
      "metadata": {
        "colab": {
          "base_uri": "https://localhost:8080/"
        },
        "id": "ny3I1rNeHyMO",
        "outputId": "669302bc-8426-4e48-ee50-22121a8856d0"
      },
      "execution_count": 11,
      "outputs": [
        {
          "output_type": "stream",
          "name": "stdout",
          "text": [
            "Exemplo de mapeamento de países para continentes:\n",
            "  country      continent\n",
            "0      MY           Asia\n",
            "1      GB         Europe\n",
            "2      DE         Europe\n",
            "3      US  North America\n",
            "4      US  North America\n",
            "\n",
            "Continente: Asia, Total de participantes: 19180\n",
            "  País: Malaysia, Participantes: 17252, Média do Índice de Depressão: 2.12\n",
            "  País: Indonesia, Participantes: 642, Média do Índice de Depressão: 2.32\n",
            "  País: Philippines, Participantes: 472, Média do Índice de Depressão: 2.46\n",
            "  País: India, Participantes: 331, Média do Índice de Depressão: 2.23\n",
            "  País: Singapore, Participantes: 123, Média do Índice de Depressão: 2.08\n",
            "  País: Brunei, Participantes: 97, Média do Índice de Depressão: 2.18\n",
            "  País: Japan, Participantes: 74, Média do Índice de Depressão: 1.84\n",
            "  País: Turkey, Participantes: 54, Média do Índice de Depressão: 2.39\n",
            "  País: Pakistan, Participantes: 53, Média do Índice de Depressão: 2.32\n",
            "  País: Saudi Arabia, Participantes: 43, Média do Índice de Depressão: 1.91\n",
            "  País: Hong Kong, Participantes: 39, Média do Índice de Depressão: 2.13\n",
            "Média do Índice de Depressão no Continente (Asia): 2.18\n",
            "\n",
            "Continente: North America, Total de participantes: 3813\n",
            "  País: United States, Participantes: 3277, Média do Índice de Depressão: 2.09\n",
            "  País: Canada, Participantes: 428, Média do Índice de Depressão: 2.12\n",
            "  País: Mexico, Participantes: 75, Média do Índice de Depressão: 2.25\n",
            "  País: Jamaica, Participantes: 33, Média do Índice de Depressão: 2.24\n",
            "Média do Índice de Depressão no Continente (North America): 2.18\n",
            "\n",
            "Continente: Europe, Total de participantes: 1322\n",
            "  País: United Kingdom, Participantes: 517, Média do Índice de Depressão: 2.16\n",
            "  País: Germany, Participantes: 134, Média do Índice de Depressão: 2.26\n",
            "  País: France, Participantes: 125, Média do Índice de Depressão: 2.28\n",
            "  País: Poland, Participantes: 85, Média do Índice de Depressão: 2.69\n",
            "  País: Italy, Participantes: 72, Média do Índice de Depressão: 2.50\n",
            "  País: Romania, Participantes: 71, Média do Índice de Depressão: 2.01\n",
            "  País: Netherlands, Participantes: 59, Média do Índice de Depressão: 2.24\n",
            "  País: Spain, Participantes: 43, Média do Índice de Depressão: 1.81\n",
            "  País: Ireland, Participantes: 39, Média do Índice de Depressão: 2.26\n",
            "  País: Russia, Participantes: 39, Média do Índice de Depressão: 2.31\n",
            "  País: Greece, Participantes: 37, Média do Índice de Depressão: 2.03\n",
            "  País: Serbia, Participantes: 35, Média do Índice de Depressão: 1.46\n",
            "  País: Portugal, Participantes: 34, Média do Índice de Depressão: 2.12\n",
            "  País: Finland, Participantes: 32, Média do Índice de Depressão: 2.34\n",
            "Média do Índice de Depressão no Continente (Europe): 2.18\n",
            "\n",
            "Continente: Australia/New Zealand, Total de participantes: 400\n",
            "  País: Australia, Participantes: 278, Média do Índice de Depressão: 2.11\n",
            "  País: New Zealand, Participantes: 122, Média do Índice de Depressão: 2.21\n",
            "Média do Índice de Depressão no Continente (Australia/New Zealand): 2.16\n",
            "\n",
            "Continente: Africa, Total de participantes: 107\n",
            "  País: Egypt, Participantes: 55, Média do Índice de Depressão: 2.58\n",
            "  País: South Africa, Participantes: 52, Média do Índice de Depressão: 2.13\n",
            "Média do Índice de Depressão no Continente (Africa): 2.36\n",
            "\n",
            "Continente: South America, Total de participantes: 105\n",
            "  País: Brazil, Participantes: 105, Média do Índice de Depressão: 2.20\n",
            "Média do Índice de Depressão no Continente (South America): 2.20\n",
            "\n",
            "Total de participantes em todos os continentes: 24927\n"
          ]
        }
      ]
    },
    {
      "cell_type": "code",
      "source": [
        "import json\n",
        "\n",
        "\n",
        "with open(\"paises.json\", \"r\", encoding=\"utf-8\") as file:\n",
        "    geojson_data = json.load(file)\n",
        "# extrair os nomes dos países\n",
        "country_names_from_geojson = [feature[\"properties\"][\"name\"] for feature in geojson_data[\"features\"]]\n",
        "print(country_names_from_geojson)\n"
      ],
      "metadata": {
        "colab": {
          "base_uri": "https://localhost:8080/"
        },
        "id": "L1NlTsRmH9zC",
        "outputId": "673b505f-8f7c-4b86-c4e6-f6c350ea5085"
      },
      "execution_count": 15,
      "outputs": [
        {
          "output_type": "stream",
          "name": "stdout",
          "text": [
            "['Afghanistan', 'Angola', 'Albania', 'United Arab Emirates', 'Argentina', 'Armenia', 'Antarctica', 'French Southern and Antarctic Lands', 'Australia', 'Austria', 'Azerbaijan', 'Burundi', 'Belgium', 'Benin', 'Burkina Faso', 'Bangladesh', 'Bulgaria', 'The Bahamas', 'Bosnia and Herzegovina', 'Belarus', 'Belize', 'Bermuda', 'Bolivia', 'Brazil', 'Brunei', 'Bhutan', 'Botswana', 'Central African Republic', 'Canada', 'Switzerland', 'Chile', 'China', 'Ivory Coast', 'Cameroon', 'Democratic Republic of the Congo', 'Republic of the Congo', 'Colombia', 'Costa Rica', 'Cuba', 'Northern Cyprus', 'Cyprus', 'Czech Republic', 'Germany', 'Djibouti', 'Denmark', 'Dominican Republic', 'Algeria', 'Ecuador', 'Egypt', 'Eritrea', 'Spain', 'Estonia', 'Ethiopia', 'Finland', 'Fiji', 'Falkland Islands', 'France', 'Gabon', 'United Kingdom', 'Georgia', 'Ghana', 'Guinea', 'Gambia', 'Guinea Bissau', 'Equatorial Guinea', 'Greece', 'Greenland', 'Guatemala', 'French Guiana', 'Guyana', 'Honduras', 'Croatia', 'Haiti', 'Hungary', 'Indonesia', 'India', 'Ireland', 'Iran', 'Iraq', 'Iceland', 'Israel', 'Italy', 'Jamaica', 'Jordan', 'Japan', 'Kazakhstan', 'Kenya', 'Kyrgyzstan', 'Cambodia', 'South Korea', 'Kosovo', 'Kuwait', 'Laos', 'Lebanon', 'Liberia', 'Libya', 'Sri Lanka', 'Lesotho', 'Lithuania', 'Luxembourg', 'Latvia', 'Morocco', 'Moldova', 'Madagascar', 'Mexico', 'Macedonia', 'Mali', 'Malta', 'Myanmar', 'Montenegro', 'Mongolia', 'Mozambique', 'Mauritania', 'Malawi', 'Malaysia', 'Namibia', 'New Caledonia', 'Niger', 'Nigeria', 'Nicaragua', 'Netherlands', 'Norway', 'Nepal', 'New Zealand', 'Oman', 'Pakistan', 'Panama', 'Peru', 'Philippines', 'Papua New Guinea', 'Poland', 'Puerto Rico', 'North Korea', 'Portugal', 'Paraguay', 'Qatar', 'Romania', 'Russia', 'Rwanda', 'Western Sahara', 'Saudi Arabia', 'Sudan', 'South Sudan', 'Senegal', 'Solomon Islands', 'Sierra Leone', 'El Salvador', 'Somaliland', 'Somalia', 'Republic of Serbia', 'Suriname', 'Slovakia', 'Slovenia', 'Sweden', 'Swaziland', 'Syria', 'Chad', 'Togo', 'Thailand', 'Tajikistan', 'Turkmenistan', 'East Timor', 'Trinidad and Tobago', 'Tunisia', 'Turkey', 'Taiwan', 'United Republic of Tanzania', 'Uganda', 'Ukraine', 'Uruguay', 'United States of America', 'Uzbekistan', 'Venezuela', 'Vietnam', 'Vanuatu', 'West Bank', 'Yemen', 'South Africa', 'Zambia', 'Zimbabwe']\n"
          ]
        }
      ]
    },
    {
      "cell_type": "markdown",
      "source": [
        "**Experimento**"
      ],
      "metadata": {
        "id": "gnl3qMYZJba8"
      }
    },
    {
      "cell_type": "code",
      "source": [
        "import pandas as pd\n",
        "\n",
        "\n",
        "df = pd.read_csv('dataset.csv')\n",
        "# encontra  colunas categorizáveis\n",
        "categorical_columns = df.select_dtypes(include=['object', 'category']).columns.tolist()\n",
        "\n",
        "\n",
        "print(f\"Colunas categorizáveis identificadas para One-Hot Encoding: {categorical_columns}\")\n",
        "\n",
        "\n",
        "categorical_columns = [col for col in categorical_columns if col != 'indice_depressao']\n",
        "\n",
        "# One-Hot Encoding\n",
        "df_encoded = pd.get_dummies(df, columns=categorical_columns)\n",
        "\n",
        "# adicionar 'indice_depressao' de volta\n",
        "df_encoded['indice_depressao'] = df['indice_depressao']\n",
        "\n",
        "\n",
        "df_encoded.to_csv('dataset_one_hot_encoded.csv', index=False)\n",
        "\n",
        "print(f\"Número de linhas no dataset codificado: {len(df_encoded)}\")\n",
        "print(f\"Número de colunas no dataset codificado: {len(df_encoded.columns)}\")\n"
      ],
      "metadata": {
        "id": "DkFxOAkpGAhz",
        "colab": {
          "base_uri": "https://localhost:8080/"
        },
        "outputId": "492c1ce1-826f-4b53-84d4-5181cd36806d"
      },
      "execution_count": 5,
      "outputs": [
        {
          "output_type": "stream",
          "name": "stdout",
          "text": [
            "Colunas categorizáveis identificadas para One-Hot Encoding: ['country']\n",
            "Número de linhas no dataset codificado: 24927\n",
            "Número de colunas no dataset codificado: 53\n"
          ]
        }
      ]
    },
    {
      "cell_type": "code",
      "source": [
        "import pandas as pd\n",
        "import json\n",
        "from sklearn.model_selection import train_test_split, StratifiedKFold\n",
        "from sklearn.preprocessing import MinMaxScaler\n",
        "from imblearn.over_sampling import SMOTE\n",
        "from sklearn.ensemble import RandomForestClassifier, AdaBoostClassifier\n",
        "from sklearn.svm import SVC\n",
        "from sklearn.linear_model import LogisticRegression\n",
        "from sklearn.neighbors import KNeighborsClassifier\n",
        "from sklearn.naive_bayes import GaussianNB\n",
        "from sklearn.tree import DecisionTreeClassifier\n",
        "from sklearn.metrics import accuracy_score, precision_score, recall_score, f1_score\n",
        "import numpy as np\n",
        "\n",
        "\n",
        "data = pd.read_csv('dataset_one_hot_encoded.csv')\n",
        "\n",
        "# x e y\n",
        "X = data.drop(columns=['indice_depressao'])\n",
        "y = data['indice_depressao']\n",
        "\n",
        "#  treino (80%) e teste (20%)\n",
        "X_train, X_test, y_train, y_test = train_test_split(X, y, test_size=0.2, random_state=42, stratify=y)\n",
        "\n",
        "# Normalização\n",
        "scaler = MinMaxScaler()\n",
        "X_train_scaled = pd.DataFrame(scaler.fit_transform(X_train), columns=X.columns)\n",
        "X_test_scaled = pd.DataFrame(scaler.transform(X_test), columns=X.columns)\n",
        "\n",
        "# SMOTE (para balanceamento de classes)\n",
        "smote = SMOTE(random_state=42)\n",
        "X_train_scaled, y_train = smote.fit_resample(X_train_scaled, y_train)\n",
        "\n",
        "\n",
        "modelos = {\n",
        "    'Random Forest': RandomForestClassifier(),\n",
        "    'SVM': SVC(),\n",
        "    'Regressão Logística': LogisticRegression(),\n",
        "    'K-Vizinhos Mais Próximos': KNeighborsClassifier(),\n",
        "    'Naive Bayes': GaussianNB(),\n",
        "    'Árvore de Decisão': DecisionTreeClassifier(),\n",
        "    'AdaBoost': AdaBoostClassifier()\n",
        "}\n",
        "\n",
        "#  calcular as métricas\n",
        "def calcular_metricas(y_true, y_pred):\n",
        "    precision = precision_score(y_true, y_pred, average='weighted')\n",
        "    recall = recall_score(y_true, y_pred, average='weighted')\n",
        "    f1 = f1_score(y_true, y_pred, average='weighted')\n",
        "\n",
        "    return precision, recall, f1\n",
        "\n",
        "# Validação cruzada\n",
        "resultados = {}\n",
        "skf = StratifiedKFold(n_splits=10, shuffle=True, random_state=42)\n",
        "\n",
        "# armazenar as métricas de cada iteração da validação cruzada\n",
        "resultados_json = {}\n",
        "\n",
        "# Validação cruzada para todos os modelos\n",
        "for nome, modelo in modelos.items():\n",
        "    acc_list = []\n",
        "    precision_list = []\n",
        "    recall_list = []\n",
        "    f1_list = []\n",
        "    acc_list_modelo = []\n",
        "    f1_list_modelo = []\n",
        "\n",
        "    # 10-fold Cross-validation\n",
        "    for i, (train_index, test_index) in enumerate(skf.split(X_train_scaled, y_train)):\n",
        "        X_train_fold, X_test_fold = X_train_scaled.iloc[train_index], X_train_scaled.iloc[test_index]\n",
        "        y_train_fold, y_test_fold = y_train.iloc[train_index], y_train.iloc[test_index]\n",
        "\n",
        "        # treinamento do modelo\n",
        "        modelo.fit(X_train_fold, y_train_fold)\n",
        "        y_pred = modelo.predict(X_test_fold)\n",
        "\n",
        "        # calculando as métricas\n",
        "        acc = accuracy_score(y_test_fold, y_pred)\n",
        "        precision, recall, f1 = calcular_metricas(y_test_fold, y_pred)\n",
        "\n",
        "        acc_list.append(acc)\n",
        "        precision_list.append(precision)\n",
        "        recall_list.append(recall)\n",
        "        f1_list.append(f1)\n",
        "\n",
        "        # Guardar resultados para o teste de Shapiro-Wilk\n",
        "        acc_list_modelo.append(acc)\n",
        "        f1_list_modelo.append(f1)\n",
        "\n",
        "    # Armazenar as métricas médias para cada modelo\n",
        "    resultados[nome] = {\n",
        "        'Acurácia': round(np.mean(acc_list), 4),\n",
        "        'Precisão': round(np.mean(precision_list), 4),\n",
        "        'Sensibilidade': round(np.mean(recall_list), 4),\n",
        "        'F1-score': round(np.mean(f1_list), 4),\n",
        "    }\n",
        "\n",
        "    resultados_json[nome] = {\n",
        "        'acuracia': acc_list_modelo,\n",
        "        'f1_score': f1_list_modelo\n",
        "    }\n",
        "\n",
        "\n",
        "with open('resultados_validacao_cruzada.json', 'w') as f:\n",
        "    json.dump(resultados_json, f)\n",
        "\n",
        "\n",
        "resultados_df = pd.DataFrame(resultados).T\n",
        "print(resultados_df)\n"
      ],
      "metadata": {
        "colab": {
          "base_uri": "https://localhost:8080/"
        },
        "id": "2xQUFSUBmYcz",
        "outputId": "e7948555-4773-40eb-e716-d43b8f1800d2"
      },
      "execution_count": null,
      "outputs": [
        {
          "output_type": "stream",
          "name": "stderr",
          "text": [
            "/usr/local/lib/python3.11/dist-packages/sklearn/linear_model/_logistic.py:465: ConvergenceWarning: lbfgs failed to converge (status=1):\n",
            "STOP: TOTAL NO. of ITERATIONS REACHED LIMIT.\n",
            "\n",
            "Increase the number of iterations (max_iter) or scale the data as shown in:\n",
            "    https://scikit-learn.org/stable/modules/preprocessing.html\n",
            "Please also refer to the documentation for alternative solver options:\n",
            "    https://scikit-learn.org/stable/modules/linear_model.html#logistic-regression\n",
            "  n_iter_i = _check_optimize_result(\n",
            "/usr/local/lib/python3.11/dist-packages/sklearn/linear_model/_logistic.py:465: ConvergenceWarning: lbfgs failed to converge (status=1):\n",
            "STOP: TOTAL NO. of ITERATIONS REACHED LIMIT.\n",
            "\n",
            "Increase the number of iterations (max_iter) or scale the data as shown in:\n",
            "    https://scikit-learn.org/stable/modules/preprocessing.html\n",
            "Please also refer to the documentation for alternative solver options:\n",
            "    https://scikit-learn.org/stable/modules/linear_model.html#logistic-regression\n",
            "  n_iter_i = _check_optimize_result(\n",
            "/usr/local/lib/python3.11/dist-packages/sklearn/linear_model/_logistic.py:465: ConvergenceWarning: lbfgs failed to converge (status=1):\n",
            "STOP: TOTAL NO. of ITERATIONS REACHED LIMIT.\n",
            "\n",
            "Increase the number of iterations (max_iter) or scale the data as shown in:\n",
            "    https://scikit-learn.org/stable/modules/preprocessing.html\n",
            "Please also refer to the documentation for alternative solver options:\n",
            "    https://scikit-learn.org/stable/modules/linear_model.html#logistic-regression\n",
            "  n_iter_i = _check_optimize_result(\n",
            "/usr/local/lib/python3.11/dist-packages/sklearn/linear_model/_logistic.py:465: ConvergenceWarning: lbfgs failed to converge (status=1):\n",
            "STOP: TOTAL NO. of ITERATIONS REACHED LIMIT.\n",
            "\n",
            "Increase the number of iterations (max_iter) or scale the data as shown in:\n",
            "    https://scikit-learn.org/stable/modules/preprocessing.html\n",
            "Please also refer to the documentation for alternative solver options:\n",
            "    https://scikit-learn.org/stable/modules/linear_model.html#logistic-regression\n",
            "  n_iter_i = _check_optimize_result(\n",
            "/usr/local/lib/python3.11/dist-packages/sklearn/linear_model/_logistic.py:465: ConvergenceWarning: lbfgs failed to converge (status=1):\n",
            "STOP: TOTAL NO. of ITERATIONS REACHED LIMIT.\n",
            "\n",
            "Increase the number of iterations (max_iter) or scale the data as shown in:\n",
            "    https://scikit-learn.org/stable/modules/preprocessing.html\n",
            "Please also refer to the documentation for alternative solver options:\n",
            "    https://scikit-learn.org/stable/modules/linear_model.html#logistic-regression\n",
            "  n_iter_i = _check_optimize_result(\n",
            "/usr/local/lib/python3.11/dist-packages/sklearn/linear_model/_logistic.py:465: ConvergenceWarning: lbfgs failed to converge (status=1):\n",
            "STOP: TOTAL NO. of ITERATIONS REACHED LIMIT.\n",
            "\n",
            "Increase the number of iterations (max_iter) or scale the data as shown in:\n",
            "    https://scikit-learn.org/stable/modules/preprocessing.html\n",
            "Please also refer to the documentation for alternative solver options:\n",
            "    https://scikit-learn.org/stable/modules/linear_model.html#logistic-regression\n",
            "  n_iter_i = _check_optimize_result(\n",
            "/usr/local/lib/python3.11/dist-packages/sklearn/linear_model/_logistic.py:465: ConvergenceWarning: lbfgs failed to converge (status=1):\n",
            "STOP: TOTAL NO. of ITERATIONS REACHED LIMIT.\n",
            "\n",
            "Increase the number of iterations (max_iter) or scale the data as shown in:\n",
            "    https://scikit-learn.org/stable/modules/preprocessing.html\n",
            "Please also refer to the documentation for alternative solver options:\n",
            "    https://scikit-learn.org/stable/modules/linear_model.html#logistic-regression\n",
            "  n_iter_i = _check_optimize_result(\n",
            "/usr/local/lib/python3.11/dist-packages/sklearn/linear_model/_logistic.py:465: ConvergenceWarning: lbfgs failed to converge (status=1):\n",
            "STOP: TOTAL NO. of ITERATIONS REACHED LIMIT.\n",
            "\n",
            "Increase the number of iterations (max_iter) or scale the data as shown in:\n",
            "    https://scikit-learn.org/stable/modules/preprocessing.html\n",
            "Please also refer to the documentation for alternative solver options:\n",
            "    https://scikit-learn.org/stable/modules/linear_model.html#logistic-regression\n",
            "  n_iter_i = _check_optimize_result(\n",
            "/usr/local/lib/python3.11/dist-packages/sklearn/linear_model/_logistic.py:465: ConvergenceWarning: lbfgs failed to converge (status=1):\n",
            "STOP: TOTAL NO. of ITERATIONS REACHED LIMIT.\n",
            "\n",
            "Increase the number of iterations (max_iter) or scale the data as shown in:\n",
            "    https://scikit-learn.org/stable/modules/preprocessing.html\n",
            "Please also refer to the documentation for alternative solver options:\n",
            "    https://scikit-learn.org/stable/modules/linear_model.html#logistic-regression\n",
            "  n_iter_i = _check_optimize_result(\n",
            "/usr/local/lib/python3.11/dist-packages/sklearn/linear_model/_logistic.py:465: ConvergenceWarning: lbfgs failed to converge (status=1):\n",
            "STOP: TOTAL NO. of ITERATIONS REACHED LIMIT.\n",
            "\n",
            "Increase the number of iterations (max_iter) or scale the data as shown in:\n",
            "    https://scikit-learn.org/stable/modules/preprocessing.html\n",
            "Please also refer to the documentation for alternative solver options:\n",
            "    https://scikit-learn.org/stable/modules/linear_model.html#logistic-regression\n",
            "  n_iter_i = _check_optimize_result(\n",
            "/usr/local/lib/python3.11/dist-packages/sklearn/metrics/_classification.py:1565: UndefinedMetricWarning: Precision is ill-defined and being set to 0.0 in labels with no predicted samples. Use `zero_division` parameter to control this behavior.\n",
            "  _warn_prf(average, modifier, f\"{metric.capitalize()} is\", len(result))\n",
            "/usr/local/lib/python3.11/dist-packages/sklearn/metrics/_classification.py:1565: UndefinedMetricWarning: Precision is ill-defined and being set to 0.0 in labels with no predicted samples. Use `zero_division` parameter to control this behavior.\n",
            "  _warn_prf(average, modifier, f\"{metric.capitalize()} is\", len(result))\n"
          ]
        },
        {
          "output_type": "stream",
          "name": "stdout",
          "text": [
            "                          Acurácia  Precisão  Sensibilidade  F1-score\n",
            "Random Forest               0.9592    0.9594         0.9592    0.9592\n",
            "SVM                         0.9966    0.9966         0.9966    0.9966\n",
            "Regressão Logística         0.9969    0.9969         0.9969    0.9969\n",
            "K-Vizinhos Mais Próximos    0.9187    0.9231         0.9187    0.9192\n",
            "Naive Bayes                 0.6854    0.7350         0.6854    0.6866\n",
            "Árvore de Decisão           0.8463    0.8462         0.8463    0.8461\n",
            "AdaBoost                    0.4936    0.5946         0.4936    0.4359\n"
          ]
        }
      ]
    },
    {
      "cell_type": "code",
      "source": [
        "#Conteúdo resultados_validacao_cruzada.json {\"Random Forest\": {\"acuracia\": [0.9539720422775315, 0.9614728946471189, 0.9614728946471189, 0.9611319468121378, 0.9607909989771565, 0.9631650750341064, 0.9580491132332879, 0.9577080491132333, 0.9566848567530696, 0.9577080491132333], \"f1_score\": [0.9539622048762328, 0.9614933571619992, 0.9614545620255276, 0.9612152578593927, 0.9608208693273189, 0.9631659356120029, 0.9580628743910905, 0.9577620328589864, 0.9567205654530644, 0.9576919082388916]}, \"SVM\": {\"acuracia\": [0.9962495738152063, 0.9976133651551312, 0.9969314694851688, 0.9942038868053188, 0.9982952608250938, 0.9986357435197817, 0.9962482946793997, 0.9955661664392906, 0.9955661664392906, 0.9965893587994543], \"f1_score\": [0.9962495029129428, 0.9976144971361536, 0.9969320406462485, 0.9942087133029699, 0.9982964111256593, 0.9986357435197817, 0.9962517234829971, 0.9955659844774608, 0.9955667152464994, 0.9965907873149769]}, \"Regress\\u00e3o Log\\u00edstica\": {\"acuracia\": [0.9965905216501875, 0.9976133651551312, 0.9982952608250938, 0.9965905216501875, 0.99727241732015, 0.9972714870395635, 0.9972714870395635, 0.9959072305593452, 0.9959072305593452, 0.9959072305593452], \"f1_score\": [0.9965939402599349, 0.997613330927446, 0.9982955482702448, 0.9965916246880505, 0.9972735446010533, 0.9972734892241031, 0.9972714404340801, 0.9959069303554628, 0.9959073817606859, 0.9959091581824401]}, \"K-Vizinhos Mais Pr\\u00f3ximos\": {\"acuracia\": [0.9185134674394818, 0.9130583020797818, 0.9226048414592567, 0.907944084555063, 0.922945789294238, 0.922237380627558, 0.919849931787176, 0.919849931787176, 0.9195088676671214, 0.9208731241473397], \"f1_score\": [0.9189366666735015, 0.9134447044856688, 0.9231466045836559, 0.9085710781171259, 0.9232698220303597, 0.9225028659076975, 0.9202987182376953, 0.9203310865893389, 0.91987590600589, 0.9213120843156459]}, \"Naive Bayes\": {\"acuracia\": [0.665871121718377, 0.6986021138765769, 0.6713262870780771, 0.6610978520286396, 0.678145243777702, 0.6899727148703957, 0.7193042291950886, 0.7005457025920873, 0.6841746248294679, 0.6845156889495225], \"f1_score\": [0.6659011268166537, 0.6979812717674522, 0.6720702587999826, 0.6616075480652148, 0.6790408113240752, 0.6910900184984287, 0.7217641304590123, 0.703595219598164, 0.6877898232496588, 0.6854178735906067]}, \"\\u00c1rvore de Decis\\u00e3o\": {\"acuracia\": [0.8462325264234573, 0.8441868394135698, 0.8407773610637572, 0.8475963177633822, 0.8424821002386634, 0.8506139154160982, 0.8465211459754434, 0.8441336971350614, 0.857094133697135, 0.8434515688949522], \"f1_score\": [0.8462400221472546, 0.8435525408591807, 0.8407991928602685, 0.8481421543198797, 0.8426882770434044, 0.8501679153635475, 0.8461892370263275, 0.8436909337081328, 0.8566894894372016, 0.8431913222737475]}, \"AdaBoost\": {\"acuracia\": [0.47494033412887826, 0.4514149335151722, 0.5410842141152403, 0.4821002386634845, 0.5032390044323218, 0.42939972714870395, 0.502387448840382, 0.49590723055934516, 0.5866302864938608, 0.4693042291950887], \"f1_score\": [0.4136149812641539, 0.3886449672702591, 0.5126244527875667, 0.4118002829641186, 0.43870171771042593, 0.33807277546297826, 0.44472462662149126, 0.42990844014879187, 0.5712085204880255, 0.4093400478832581]}}"
      ],
      "metadata": {
        "id": "7nfdO3mjGono"
      },
      "execution_count": null,
      "outputs": []
    },
    {
      "cell_type": "markdown",
      "source": [
        "**Análises estatísticas**"
      ],
      "metadata": {
        "id": "6tOKPH5EMb7I"
      }
    },
    {
      "cell_type": "code",
      "source": [
        "pip install scikit-posthocs\n"
      ],
      "metadata": {
        "colab": {
          "base_uri": "https://localhost:8080/"
        },
        "id": "oU3l3mvoKiLQ",
        "outputId": "a5589699-e1f1-4bcf-c9b7-d12c30b3c1c3"
      },
      "execution_count": null,
      "outputs": [
        {
          "output_type": "stream",
          "name": "stdout",
          "text": [
            "Collecting scikit-posthocs\n",
            "  Downloading scikit_posthocs-0.11.2-py3-none-any.whl.metadata (5.8 kB)\n",
            "Requirement already satisfied: numpy in /usr/local/lib/python3.11/dist-packages (from scikit-posthocs) (1.26.4)\n",
            "Requirement already satisfied: scipy>=1.9.0 in /usr/local/lib/python3.11/dist-packages (from scikit-posthocs) (1.13.1)\n",
            "Requirement already satisfied: statsmodels in /usr/local/lib/python3.11/dist-packages (from scikit-posthocs) (0.14.4)\n",
            "Requirement already satisfied: pandas>=0.20.0 in /usr/local/lib/python3.11/dist-packages (from scikit-posthocs) (2.2.2)\n",
            "Requirement already satisfied: seaborn in /usr/local/lib/python3.11/dist-packages (from scikit-posthocs) (0.13.2)\n",
            "Requirement already satisfied: matplotlib in /usr/local/lib/python3.11/dist-packages (from scikit-posthocs) (3.10.0)\n",
            "Requirement already satisfied: python-dateutil>=2.8.2 in /usr/local/lib/python3.11/dist-packages (from pandas>=0.20.0->scikit-posthocs) (2.8.2)\n",
            "Requirement already satisfied: pytz>=2020.1 in /usr/local/lib/python3.11/dist-packages (from pandas>=0.20.0->scikit-posthocs) (2025.1)\n",
            "Requirement already satisfied: tzdata>=2022.7 in /usr/local/lib/python3.11/dist-packages (from pandas>=0.20.0->scikit-posthocs) (2025.1)\n",
            "Requirement already satisfied: contourpy>=1.0.1 in /usr/local/lib/python3.11/dist-packages (from matplotlib->scikit-posthocs) (1.3.1)\n",
            "Requirement already satisfied: cycler>=0.10 in /usr/local/lib/python3.11/dist-packages (from matplotlib->scikit-posthocs) (0.12.1)\n",
            "Requirement already satisfied: fonttools>=4.22.0 in /usr/local/lib/python3.11/dist-packages (from matplotlib->scikit-posthocs) (4.55.8)\n",
            "Requirement already satisfied: kiwisolver>=1.3.1 in /usr/local/lib/python3.11/dist-packages (from matplotlib->scikit-posthocs) (1.4.8)\n",
            "Requirement already satisfied: packaging>=20.0 in /usr/local/lib/python3.11/dist-packages (from matplotlib->scikit-posthocs) (24.2)\n",
            "Requirement already satisfied: pillow>=8 in /usr/local/lib/python3.11/dist-packages (from matplotlib->scikit-posthocs) (11.1.0)\n",
            "Requirement already satisfied: pyparsing>=2.3.1 in /usr/local/lib/python3.11/dist-packages (from matplotlib->scikit-posthocs) (3.2.1)\n",
            "Requirement already satisfied: patsy>=0.5.6 in /usr/local/lib/python3.11/dist-packages (from statsmodels->scikit-posthocs) (1.0.1)\n",
            "Requirement already satisfied: six>=1.5 in /usr/local/lib/python3.11/dist-packages (from python-dateutil>=2.8.2->pandas>=0.20.0->scikit-posthocs) (1.17.0)\n",
            "Downloading scikit_posthocs-0.11.2-py3-none-any.whl (33 kB)\n",
            "Installing collected packages: scikit-posthocs\n",
            "Successfully installed scikit-posthocs-0.11.2\n"
          ]
        }
      ]
    },
    {
      "cell_type": "code",
      "source": [
        "import scikit_posthocs as sp\n",
        "import pandas as pd\n",
        "import numpy as np\n",
        "from scipy import stats\n",
        "import json\n",
        "\n",
        "\n",
        "with open('resultados_validacao_cruzada.json', 'r') as f:\n",
        "    resultados = json.load(f)\n",
        "\n",
        "# meta os modelos com acurácia média > 95%\n",
        "modelos_selecionados = {nome: dados for nome, dados in resultados.items()\n",
        "                        if np.mean(dados['acuracia']) > 0.95 and np.mean(dados['f1_score']) > 0.95}\n",
        "\n",
        "# Shapiro-Wilk para verificar normalidade\n",
        "normalidade_acuracia = {}\n",
        "normalidade_f1 = {}\n",
        "\n",
        "for nome, dados in modelos_selecionados.items():\n",
        "    #  normalidade para acurácia\n",
        "    _, p_valor_acuracia = stats.shapiro(dados['acuracia'])\n",
        "    normalidade_acuracia[nome] = p_valor_acuracia\n",
        "\n",
        "    #  normalidade para f1_score\n",
        "    _, p_valor_f1 = stats.shapiro(dados['f1_score'])\n",
        "    normalidade_f1[nome] = p_valor_f1\n",
        "\n",
        "# Bartlett (homogeneidade de variâncias)\n",
        "acuracias = [dados['acuracia'] for dados in modelos_selecionados.values()]\n",
        "f1_scores = [dados['f1_score'] for dados in modelos_selecionados.values()]\n",
        "\n",
        "_, p_valor_bartlett_acuracia = stats.bartlett(*acuracias)\n",
        "_, p_valor_bartlett_f1 = stats.bartlett(*f1_scores)\n",
        "\n",
        "#  Friedman\n",
        "resultados_friedman_acuracia = np.array([dados['acuracia'] for dados in modelos_selecionados.values()])\n",
        "resultados_friedman_f1 = np.array([dados['f1_score'] for dados in modelos_selecionados.values()])\n",
        "\n",
        "_, p_valor_friedman_acuracia = stats.friedmanchisquare(*resultados_friedman_acuracia)\n",
        "_, p_valor_friedman_f1 = stats.friedmanchisquare(*resultados_friedman_f1)\n",
        "\n",
        "#  resultados dos testes\n",
        "print(\"Resultados dos Testes de Normalidade (Shapiro-Wilk):\")\n",
        "for nome, p_valor in normalidade_acuracia.items():\n",
        "    print(f\"{nome} (Acurácia): p-valor = {p_valor}\")\n",
        "for nome, p_valor in normalidade_f1.items():\n",
        "    print(f\"{nome} (F1-score): p-valor = {p_valor}\")\n",
        "\n",
        "print(\"\\nResultado do Teste de Bartlett (Acurácia): p-valor =\", p_valor_bartlett_acuracia)\n",
        "print(\"Resultado do Teste de Bartlett (F1-score): p-valor =\", p_valor_bartlett_f1)\n",
        "\n",
        "print(\"\\nResultado do Teste de Friedman (Acurácia): p-valor =\", p_valor_friedman_acuracia)\n",
        "print(\"Resultado do Teste de Friedman (F1-score): p-valor =\", p_valor_friedman_f1)\n",
        "\n",
        "# Se o p-valor do teste de Friedman for significativo ocorr e o pós-teste de Nemenyi\n",
        "if p_valor_friedman_acuracia < 0.05:\n",
        "    df_acuracia = pd.DataFrame(resultados_friedman_acuracia.T, columns=modelos_selecionados.keys())\n",
        "    post_hoc_acuracia = sp.posthoc_nemenyi_friedman(df_acuracia)\n",
        "    print(\"\\nPós-teste de Nemenyi para Acurácia:\")\n",
        "    print(post_hoc_acuracia)\n",
        "\n",
        "if p_valor_friedman_f1 < 0.05:\n",
        "    df_f1 = pd.DataFrame(resultados_friedman_f1.T, columns=modelos_selecionados.keys())\n",
        "    post_hoc_f1 = sp.posthoc_nemenyi_friedman(df_f1)\n",
        "    print(\"\\nPós-teste de Nemenyi para F1-score:\")\n",
        "    print(post_hoc_f1)\n"
      ],
      "metadata": {
        "colab": {
          "base_uri": "https://localhost:8080/"
        },
        "id": "M-Kkd1s7G8F-",
        "outputId": "3a01c131-7cc4-4c50-a0ed-e38ac7e41966"
      },
      "execution_count": 8,
      "outputs": [
        {
          "output_type": "stream",
          "name": "stdout",
          "text": [
            "Resultados dos Testes de Normalidade (Shapiro-Wilk):\n",
            "Random Forest (Acurácia): p-valor = 0.4894289239670076\n",
            "SVM (Acurácia): p-valor = 0.903785804782599\n",
            "Regressão Logística (Acurácia): p-valor = 0.26671653949413054\n",
            "Random Forest (F1-score): p-valor = 0.47209375094739536\n",
            "SVM (F1-score): p-valor = 0.9040458262289668\n",
            "Regressão Logística (F1-score): p-valor = 0.26965638613269716\n",
            "\n",
            "Resultado do Teste de Bartlett (Acurácia): p-valor = 0.0017566372137746023\n",
            "Resultado do Teste de Bartlett (F1-score): p-valor = 0.00172092148740393\n",
            "\n",
            "Resultado do Teste de Friedman (Acurácia): p-valor = 0.00036228588397514325\n",
            "Resultado do Teste de Friedman (F1-score): p-valor = 0.0005004514334406062\n",
            "\n",
            "Pós-teste de Nemenyi para Acurácia:\n",
            "                     Random Forest       SVM  Regressão Logística\n",
            "Random Forest             1.000000  0.007165             0.000658\n",
            "SVM                       0.007165  1.000000             0.780467\n",
            "Regressão Logística       0.000658  0.780467             1.000000\n",
            "\n",
            "Pós-teste de Nemenyi para F1-score:\n",
            "                     Random Forest       SVM  Regressão Logística\n",
            "Random Forest             1.000000  0.004965             0.001010\n",
            "SVM                       0.004965  1.000000             0.895638\n",
            "Regressão Logística       0.001010  0.895638             1.000000\n"
          ]
        }
      ]
    },
    {
      "cell_type": "markdown",
      "source": [
        "**Versão das análises estatísticas com autorank**\n",
        "\n",
        "\n",
        "\n",
        "\n",
        "\n",
        "\n",
        "\n",
        "\n"
      ],
      "metadata": {
        "id": "Fh9zYeKcG1zc"
      }
    },
    {
      "cell_type": "code",
      "source": [
        "pip install autorank"
      ],
      "metadata": {
        "colab": {
          "base_uri": "https://localhost:8080/"
        },
        "id": "TextlkprHpam",
        "outputId": "b76f85b1-f7bf-4dd5-c284-fdb89e2257d7"
      },
      "execution_count": 9,
      "outputs": [
        {
          "output_type": "stream",
          "name": "stdout",
          "text": [
            "Collecting autorank\n",
            "  Downloading autorank-1.2.1-py3-none-any.whl.metadata (19 kB)\n",
            "Requirement already satisfied: numpy in /usr/local/lib/python3.11/dist-packages (from autorank) (1.26.4)\n",
            "Requirement already satisfied: pandas>=2.0.3 in /usr/local/lib/python3.11/dist-packages (from autorank) (2.2.2)\n",
            "Requirement already satisfied: statsmodels>=0.14.0 in /usr/local/lib/python3.11/dist-packages (from autorank) (0.14.4)\n",
            "Requirement already satisfied: scipy>=1.10.1 in /usr/local/lib/python3.11/dist-packages (from autorank) (1.13.1)\n",
            "Requirement already satisfied: matplotlib>=3.7.2 in /usr/local/lib/python3.11/dist-packages (from autorank) (3.10.0)\n",
            "Collecting baycomp>=1.0.3 (from autorank)\n",
            "  Downloading baycomp-1.0.3.tar.gz (15 kB)\n",
            "  Preparing metadata (setup.py) ... \u001b[?25l\u001b[?25hdone\n",
            "Requirement already satisfied: jinja2>=3.1.2 in /usr/local/lib/python3.11/dist-packages (from autorank) (3.1.5)\n",
            "Requirement already satisfied: MarkupSafe>=2.0 in /usr/local/lib/python3.11/dist-packages (from jinja2>=3.1.2->autorank) (3.0.2)\n",
            "Requirement already satisfied: contourpy>=1.0.1 in /usr/local/lib/python3.11/dist-packages (from matplotlib>=3.7.2->autorank) (1.3.1)\n",
            "Requirement already satisfied: cycler>=0.10 in /usr/local/lib/python3.11/dist-packages (from matplotlib>=3.7.2->autorank) (0.12.1)\n",
            "Requirement already satisfied: fonttools>=4.22.0 in /usr/local/lib/python3.11/dist-packages (from matplotlib>=3.7.2->autorank) (4.55.8)\n",
            "Requirement already satisfied: kiwisolver>=1.3.1 in /usr/local/lib/python3.11/dist-packages (from matplotlib>=3.7.2->autorank) (1.4.8)\n",
            "Requirement already satisfied: packaging>=20.0 in /usr/local/lib/python3.11/dist-packages (from matplotlib>=3.7.2->autorank) (24.2)\n",
            "Requirement already satisfied: pillow>=8 in /usr/local/lib/python3.11/dist-packages (from matplotlib>=3.7.2->autorank) (11.1.0)\n",
            "Requirement already satisfied: pyparsing>=2.3.1 in /usr/local/lib/python3.11/dist-packages (from matplotlib>=3.7.2->autorank) (3.2.1)\n",
            "Requirement already satisfied: python-dateutil>=2.7 in /usr/local/lib/python3.11/dist-packages (from matplotlib>=3.7.2->autorank) (2.8.2)\n",
            "Requirement already satisfied: pytz>=2020.1 in /usr/local/lib/python3.11/dist-packages (from pandas>=2.0.3->autorank) (2025.1)\n",
            "Requirement already satisfied: tzdata>=2022.7 in /usr/local/lib/python3.11/dist-packages (from pandas>=2.0.3->autorank) (2025.1)\n",
            "Requirement already satisfied: patsy>=0.5.6 in /usr/local/lib/python3.11/dist-packages (from statsmodels>=0.14.0->autorank) (1.0.1)\n",
            "Requirement already satisfied: six>=1.5 in /usr/local/lib/python3.11/dist-packages (from python-dateutil>=2.7->matplotlib>=3.7.2->autorank) (1.17.0)\n",
            "Downloading autorank-1.2.1-py3-none-any.whl (35 kB)\n",
            "Building wheels for collected packages: baycomp\n",
            "  Building wheel for baycomp (setup.py) ... \u001b[?25l\u001b[?25hdone\n",
            "  Created wheel for baycomp: filename=baycomp-1.0.3-py3-none-any.whl size=18030 sha256=002771e80709c80410f3666401b8e14f6d814a3845afb551a852ed14b43040e5\n",
            "  Stored in directory: /root/.cache/pip/wheels/2b/a2/b8/9c0b9ffde746a4e0c20639b46eae34dda4e0588efebde8916e\n",
            "Successfully built baycomp\n",
            "Installing collected packages: baycomp, autorank\n",
            "Successfully installed autorank-1.2.1 baycomp-1.0.3\n"
          ]
        }
      ]
    },
    {
      "cell_type": "code",
      "source": [
        "import json\n",
        "import pandas as pd\n",
        "from autorank import autorank, create_report, plot_stats\n",
        "import matplotlib.pyplot as plt\n",
        "\n",
        "\n",
        "with open('resultados_validacao_cruzada.json', 'r') as file:\n",
        "    data = json.load(file)\n",
        "\n",
        "# definir métricas e modelos selecionados\n",
        "metrics = ['acuracia', 'f1_score']\n",
        "selected_models = {}\n",
        "\n",
        "#  média superior a 95%\n",
        "for model, values in data.items():\n",
        "    mean_accuracy = sum(values['acuracia']) / len(values['acuracia'])\n",
        "    if mean_accuracy > 0.95:\n",
        "        selected_models[model] = values\n",
        "\n",
        "# há modelos selecionados?\n",
        "if not selected_models:\n",
        "    print(\"Nenhum modelo selecionado com acurácia superior a 95%.\")\n",
        "else:\n",
        "    #  dataFrames para análise estatística\n",
        "    results = {metric: pd.DataFrame({model: selected_models[model][metric] for model in selected_models}) for metric in metrics}\n",
        "\n",
        "    # com Autorank para cada métrica\n",
        "    autorank_results = {}\n",
        "\n",
        "    for metric, df in results.items():\n",
        "        print(f\"\\nAnalisando {metric}:\\n\")\n",
        "        rank_result = autorank(df, alpha=0.05, verbose=True)  # significância ajustada para 0,05\n",
        "        create_report(rank_result)\n",
        "        plot_stats(rank_result)\n",
        "        plt.title(f\"Ranking dos modelos - {metric}\")\n",
        "        plt.show()\n",
        "        autorank_results[metric] = rank_result\n"
      ],
      "metadata": {
        "colab": {
          "base_uri": "https://localhost:8080/",
          "height": 1000
        },
        "id": "2ZZ8P423HuK0",
        "outputId": "e970949b-80e6-4f51-c3f4-876304073557"
      },
      "execution_count": 10,
      "outputs": [
        {
          "output_type": "stream",
          "name": "stdout",
          "text": [
            "\n",
            "Analisando acuracia:\n",
            "\n",
            "Fail to reject null hypothesis that data is normal for column Random Forest (p=0.489429>=0.016667)\n",
            "Fail to reject null hypothesis that data is normal for column SVM (p=0.903786>=0.016667)\n",
            "Fail to reject null hypothesis that data is normal for column Regressão Logística (p=0.266717>=0.016667)\n",
            "Using Bartlett's test for homoscedacity of normally distributed data\n",
            "Rejecting null hypothesis that all variances are equal (p=0.001757<0.050000)\n",
            "Using Friedman test as omnibus test\n",
            "Rejecting null hypothesis that there is no difference between the distributions (p=0.000362)\n",
            "Using Nemenyi post-hoc test. Differences are significant,if the distance between the mean ranks is greater than the critical distance.\n",
            "The statistical analysis was conducted for 3 populations with 10 paired samples.\n",
            "The family-wise significance level of the tests is alpha=0.050.\n",
            "We failed to reject the null hypothesis that the population is normal for all populations (minimal observed p-value=0.267). Therefore, we assume that all populations are normal.\n",
            "We applied Bartlett's test for homogeneity and reject the null hypothesis (p=0.002) that thedata is homoscedastic. Thus, we assume that our data is heteroscedastic.\n",
            "Because we have more than two populations and the populations are normal but heteroscedastic, we use the non-parametric Friedman test as omnibus test to determine if there are any significant differences between the mean values of the populations. We use the post-hoc Nemenyi test to infer which differences are significant. We report the mean value (M), the standard deviation (SD) and the mean rank (MR) among all populations over the samples. Differences between populations are significant, if the difference of the mean rank is greater than the critical distance CD=1.048 of the Nemenyi test.\n",
            "We reject the null hypothesis (p=0.000) of the Friedman test that there is no difference in the central tendency of the populations Random Forest (M=0.959+-0.003, SD=0.003, MR=3.000), SVM (M=0.997+-0.001, SD=0.001, MR=1.650), and Regressão Logística (M=0.997+-0.001, SD=0.001, MR=1.350). Therefore, we assume that there is a statistically significant difference between the median values of the populations.\n",
            "Based on the post-hoc Nemenyi test, we assume that there are no significant differences within the following groups: SVM and Regressão Logística. All other differences are significant.\n"
          ]
        },
        {
          "output_type": "display_data",
          "data": {
            "text/plain": [
              "<Figure size 600x145 with 1 Axes>"
            ],
            "image/png": "[encoded data removed]"
          },
          "metadata": {}
        },
        {
          "output_type": "stream",
          "name": "stdout",
          "text": [
            "\n",
            "Analisando f1_score:\n",
            "\n",
            "Fail to reject null hypothesis that data is normal for column Random Forest (p=0.472094>=0.016667)\n",
            "Fail to reject null hypothesis that data is normal for column SVM (p=0.904046>=0.016667)\n",
            "Fail to reject null hypothesis that data is normal for column Regressão Logística (p=0.269656>=0.016667)\n",
            "Using Bartlett's test for homoscedacity of normally distributed data\n",
            "Rejecting null hypothesis that all variances are equal (p=0.001721<0.050000)\n",
            "Using Friedman test as omnibus test\n",
            "Rejecting null hypothesis that there is no difference between the distributions (p=0.000500)\n",
            "Using Nemenyi post-hoc test. Differences are significant,if the distance between the mean ranks is greater than the critical distance.\n",
            "The statistical analysis was conducted for 3 populations with 10 paired samples.\n",
            "The family-wise significance level of the tests is alpha=0.050.\n",
            "We failed to reject the null hypothesis that the population is normal for all populations (minimal observed p-value=0.270). Therefore, we assume that all populations are normal.\n",
            "We applied Bartlett's test for homogeneity and reject the null hypothesis (p=0.002) that thedata is homoscedastic. Thus, we assume that our data is heteroscedastic.\n",
            "Because we have more than two populations and the populations are normal but heteroscedastic, we use the non-parametric Friedman test as omnibus test to determine if there are any significant differences between the mean values of the populations. We use the post-hoc Nemenyi test to infer which differences are significant. We report the mean value (M), the standard deviation (SD) and the mean rank (MR) among all populations over the samples. Differences between populations are significant, if the difference of the mean rank is greater than the critical distance CD=1.048 of the Nemenyi test.\n",
            "We reject the null hypothesis (p=0.001) of the Friedman test that there is no difference in the central tendency of the populations Random Forest (M=0.959+-0.003, SD=0.003, MR=3.000), SVM (M=0.997+-0.001, SD=0.001, MR=1.600), and Regressão Logística (M=0.997+-0.001, SD=0.001, MR=1.400). Therefore, we assume that there is a statistically significant difference between the median values of the populations.\n",
            "Based on the post-hoc Nemenyi test, we assume that there are no significant differences within the following groups: SVM and Regressão Logística. All other differences are significant.\n"
          ]
        },
        {
          "output_type": "display_data",
          "data": {
            "text/plain": [
              "<Figure size 600x145 with 1 Axes>"
            ],
            "image/png": "[encoded data removed]"
          },
          "metadata": {}
        }
      ]
    },
    {
      "cell_type": "markdown",
      "source": [
        "**Streamlit**"
      ],
      "metadata": {
        "id": "pyscHevXKOKK"
      }
    },
    {
      "cell_type": "code",
      "source": [
        "! pip install streamlit"
      ],
      "metadata": {
        "id": "VJMGa59KKTAs"
      },
      "execution_count": 19,
      "outputs": []
    },
    {
      "cell_type": "code",
      "source": [
        "! wget -q -O - ipv4.icanhazip.com"
      ],
      "metadata": {
        "colab": {
          "base_uri": "https://localhost:8080/"
        },
        "id": "H-3MwqCrKWb9",
        "outputId": "28170f62-1b34-4ba9-db47-669cf784cc0b"
      },
      "execution_count": 21,
      "outputs": [
        {
          "output_type": "stream",
          "name": "stdout",
          "text": [
            "35.221.209.27\n"
          ]
        }
      ]
    },
    {
      "cell_type": "code",
      "source": [
        "!npm install -g localtunnel@2.0.2"
      ],
      "metadata": {
        "colab": {
          "base_uri": "https://localhost:8080/"
        },
        "id": "Vcd1x4AkKYhW",
        "outputId": "0b71fc6b-99d5-4fb0-d065-02dfc7a09db0"
      },
      "execution_count": 22,
      "outputs": [
        {
          "output_type": "stream",
          "name": "stdout",
          "text": [
            "\u001b[1G\u001b[0K⠙\u001b[1G\u001b[0K⠹\u001b[1G\u001b[0K⠸\u001b[1G\u001b[0K⠼\u001b[1G\u001b[0K⠴\u001b[1G\u001b[0K⠦\u001b[1G\u001b[0K⠧\u001b[1G\u001b[0K⠇\u001b[1G\u001b[0K⠏\u001b[1G\u001b[0K⠋\u001b[1G\u001b[0K⠙\u001b[1G\u001b[0K⠹\u001b[1G\u001b[0K⠸\u001b[1G\u001b[0K⠼\u001b[1G\u001b[0K⠴\u001b[1G\u001b[0K⠦\u001b[1G\u001b[0K⠧\u001b[1G\u001b[0K⠇\u001b[1G\u001b[0K⠏\u001b[1G\u001b[0K⠋\u001b[1G\u001b[0K⠙\u001b[1G\u001b[0K⠹\u001b[1G\u001b[0K⠸\u001b[1G\u001b[0K⠼\u001b[1G\u001b[0K⠴\u001b[1G\u001b[0K⠦\u001b[1G\u001b[0K⠧\u001b[1G\u001b[0K⠇\u001b[1G\u001b[0K⠏\u001b[1G\u001b[0K⠋\u001b[1G\u001b[0K⠙\u001b[1G\u001b[0K⠹\u001b[1G\u001b[0K⠸\u001b[1G\u001b[0K\n",
            "changed 22 packages in 3s\n",
            "\u001b[1G\u001b[0K⠸\u001b[1G\u001b[0K\n",
            "\u001b[1G\u001b[0K⠸\u001b[1G\u001b[0K3 packages are looking for funding\n",
            "\u001b[1G\u001b[0K⠸\u001b[1G\u001b[0K  run `npm fund` for details\n",
            "\u001b[1G\u001b[0K⠸\u001b[1G\u001b[0K"
          ]
        }
      ]
    },
    {
      "cell_type": "code",
      "source": [
        "! streamlit run app.py & npx localtunnel --port 8501"
      ],
      "metadata": {
        "colab": {
          "base_uri": "https://localhost:8080/"
        },
        "id": "3lhT8WmnKbvH",
        "outputId": "eb67daf4-fd68-444c-b69c-34c18a44f643"
      },
      "execution_count": 24,
      "outputs": [
        {
          "output_type": "stream",
          "name": "stdout",
          "text": [
            "\n",
            "Collecting usage statistics. To deactivate, set browser.gatherUsageStats to false.\n",
            "\u001b[0m\n",
            "\u001b[1G\u001b[0K⠙\u001b[1G\u001b[0K⠹\u001b[1G\u001b[0K⠸\u001b[1G\u001b[0K⠼\u001b[0m\n",
            "\u001b[34m\u001b[1m  You can now view your Streamlit app in your browser.\u001b[0m\n",
            "\u001b[0m\n",
            "\u001b[34m  Local URL: \u001b[0m\u001b[1mhttp://localhost:8501\u001b[0m\n",
            "\u001b[34m  Network URL: \u001b[0m\u001b[1mhttp://172.28.0.12:8501\u001b[0m\n",
            "\u001b[34m  External URL: \u001b[0m\u001b[1mhttp://35.221.209.27:8501\u001b[0m\n",
            "\u001b[0m\n",
            "\u001b[1G\u001b[0K⠴\u001b[1G\u001b[0K⠦\u001b[1G\u001b[0K⠧\u001b[1G\u001b[0Kyour url is: https://violet-moons-pull.loca.lt\n",
            "\u001b[34m  Stopping...\u001b[0m\n",
            "^C\n"
          ]
        }
      ]
    }
  ]
}